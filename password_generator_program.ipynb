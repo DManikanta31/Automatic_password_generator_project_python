{
 "cells": [
  {
   "cell_type": "code",
   "execution_count": 6,
   "id": "86e74c39",
   "metadata": {},
   "outputs": [
    {
     "name": "stdout",
     "output_type": "stream",
     "text": [
      "Password Generator\n",
      "Enter how many symbols you want: 2\n",
      "Enter how many numbers you want: 2\n",
      "Enter how many letters you want: 4\n",
      "your password is: 9Zb(P+0y \n"
     ]
    }
   ],
   "source": [
    "import random\n",
    "\n",
    "symbols = list('!\"#$%&\\'()*+,-./:;<=>?@[\\\\]^_`{|}~')\n",
    "numbers = list('0123456789')\n",
    "letters = list('abcdefghijklmnopqrstuvwxyzABCDEFGHIJKLMNOPQRSTUVWXYZ')\n",
    "print(\"Password Generator\")\n",
    "n_symbols= int(input(\"Enter how many symbols you want: \"))\n",
    "n_numbers= int(input(\"Enter how many numbers you want: \"))\n",
    "n_letters= int(input(\"Enter how many letters you want: \"))\n",
    "\n",
    "password=\"\"\n",
    "\n",
    "for i in range(n_symbols):\n",
    "    char= random.choice(symbols)\n",
    "    password += char\n",
    "    \n",
    "for i in range(n_numbers):\n",
    "    char= random.choice(numbers)\n",
    "    password += char\n",
    "    \n",
    "for i in range(n_letters):\n",
    "    char= random.choice(letters)\n",
    "    password += char\n",
    "    \n",
    "password_list= list(password)\n",
    "random.shuffle(password_list)\n",
    "    \n",
    "suffeled_password= \"\"\n",
    "\n",
    "for i in password_list:\n",
    "    suffeled_password += i\n",
    "    \n",
    "print(f\"your password is: {suffeled_password} \")\n"
   ]
  },
  {
   "cell_type": "code",
   "execution_count": null,
   "id": "68f11737",
   "metadata": {},
   "outputs": [],
   "source": []
  }
 ],
 "metadata": {
  "kernelspec": {
   "display_name": "Python 3 (ipykernel)",
   "language": "python",
   "name": "python3"
  },
  "language_info": {
   "codemirror_mode": {
    "name": "ipython",
    "version": 3
   },
   "file_extension": ".py",
   "mimetype": "text/x-python",
   "name": "python",
   "nbconvert_exporter": "python",
   "pygments_lexer": "ipython3",
   "version": "3.9.13"
  }
 },
 "nbformat": 4,
 "nbformat_minor": 5
}
